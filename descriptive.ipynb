{
 "cells": [
  {
   "cell_type": "code",
   "execution_count": 1,
   "metadata": {},
   "outputs": [],
   "source": [
    "#IMPORTING LIBRARIES\n",
    "import pandas as pd\n",
    "import numpy as np\n",
    "import matplotlib.pyplot as plt\n",
    "import seaborn\n"
   ]
  },
  {
   "cell_type": "code",
   "execution_count": 4,
   "metadata": {},
   "outputs": [
    {
     "data": {
      "text/html": [
       "<div>\n",
       "<style scoped>\n",
       "    .dataframe tbody tr th:only-of-type {\n",
       "        vertical-align: middle;\n",
       "    }\n",
       "\n",
       "    .dataframe tbody tr th {\n",
       "        vertical-align: top;\n",
       "    }\n",
       "\n",
       "    .dataframe thead th {\n",
       "        text-align: right;\n",
       "    }\n",
       "</style>\n",
       "<table border=\"1\" class=\"dataframe\">\n",
       "  <thead>\n",
       "    <tr style=\"text-align: right;\">\n",
       "      <th></th>\n",
       "      <th>age</th>\n",
       "      <th>gender</th>\n",
       "      <th>ebike_own</th>\n",
       "      <th>potential_customer</th>\n",
       "      <th>tiene_patinete_electrico</th>\n",
       "      <th>afirmation_1</th>\n",
       "    </tr>\n",
       "  </thead>\n",
       "  <tbody>\n",
       "    <tr>\n",
       "      <th>0</th>\n",
       "      <td>32</td>\n",
       "      <td>Man</td>\n",
       "      <td>0</td>\n",
       "      <td>1</td>\n",
       "      <td>0</td>\n",
       "      <td>Puede que entre ahora y los próximos 2 años me...</td>\n",
       "    </tr>\n",
       "    <tr>\n",
       "      <th>1</th>\n",
       "      <td>65</td>\n",
       "      <td>Woman</td>\n",
       "      <td>0</td>\n",
       "      <td>1</td>\n",
       "      <td>0</td>\n",
       "      <td>Puede que entre ahora y los próximos 2 años me...</td>\n",
       "    </tr>\n",
       "    <tr>\n",
       "      <th>2</th>\n",
       "      <td>65</td>\n",
       "      <td>Man</td>\n",
       "      <td>0</td>\n",
       "      <td>0</td>\n",
       "      <td>0</td>\n",
       "      <td>Nunca he pensado, ni pensaré en comprarme una ...</td>\n",
       "    </tr>\n",
       "  </tbody>\n",
       "</table>\n",
       "</div>"
      ],
      "text/plain": [
       "   age gender  ebike_own  potential_customer  tiene_patinete_electrico   \n",
       "0   32    Man          0                   1                         0  \\\n",
       "1   65  Woman          0                   1                         0   \n",
       "2   65    Man          0                   0                         0   \n",
       "\n",
       "                                        afirmation_1  \n",
       "0  Puede que entre ahora y los próximos 2 años me...  \n",
       "1  Puede que entre ahora y los próximos 2 años me...  \n",
       "2  Nunca he pensado, ni pensaré en comprarme una ...  "
      ]
     },
     "execution_count": 4,
     "metadata": {},
     "output_type": "execute_result"
    }
   ],
   "source": [
    "#LOADING THE CSV -- DESCRIPTIVE_DATA.CSV\n",
    "descriptive_df = pd.read_csv('descriptive_data.csv')\n",
    "descriptive_df.head(3)"
   ]
  },
  {
   "cell_type": "code",
   "execution_count": 7,
   "metadata": {},
   "outputs": [
    {
     "data": {
      "text/plain": [
       "afirmation_1\n",
       "Nunca he pensado, ni pensaré en comprarme una bicicleta eléctrica.                                                   44\n",
       "Puede que entre ahora y los próximos 2 años me compre una bicicleta eléctrica.                                       27\n",
       "Después del aislamiento por el COVID hubiese sido un momento mejor que este para comprar una bicicleta eléctrica.     6\n",
       "Ya tengo bicicleta eléctrica.                                                                                         3\n",
       "Name: count, dtype: int64"
      ]
     },
     "execution_count": 7,
     "metadata": {},
     "output_type": "execute_result"
    }
   ],
   "source": [
    "descriptive_df['afirmation_1'].value_counts()"
   ]
  },
  {
   "cell_type": "code",
   "execution_count": 15,
   "metadata": {},
   "outputs": [
    {
     "data": {
      "text/plain": [
       "age                          int64\n",
       "gender                      object\n",
       "ebike_own                    int64\n",
       "potential_customer           int64\n",
       "tiene_patinete_electrico     int64\n",
       "afirmation_1                object\n",
       "potential-customer_lost      int32\n",
       "dtype: object"
      ]
     },
     "metadata": {},
     "output_type": "display_data"
    },
    {
     "data": {
      "text/html": [
       "<div>\n",
       "<style scoped>\n",
       "    .dataframe tbody tr th:only-of-type {\n",
       "        vertical-align: middle;\n",
       "    }\n",
       "\n",
       "    .dataframe tbody tr th {\n",
       "        vertical-align: top;\n",
       "    }\n",
       "\n",
       "    .dataframe thead th {\n",
       "        text-align: right;\n",
       "    }\n",
       "</style>\n",
       "<table border=\"1\" class=\"dataframe\">\n",
       "  <thead>\n",
       "    <tr style=\"text-align: right;\">\n",
       "      <th></th>\n",
       "      <th>age</th>\n",
       "      <th>gender</th>\n",
       "      <th>ebike_own</th>\n",
       "      <th>potential_customer</th>\n",
       "      <th>tiene_patinete_electrico</th>\n",
       "      <th>afirmation_1</th>\n",
       "      <th>potential-customer_lost</th>\n",
       "    </tr>\n",
       "  </thead>\n",
       "  <tbody>\n",
       "    <tr>\n",
       "      <th>0</th>\n",
       "      <td>32</td>\n",
       "      <td>Man</td>\n",
       "      <td>0</td>\n",
       "      <td>1</td>\n",
       "      <td>0</td>\n",
       "      <td>Puede que entre ahora y los próximos 2 años me...</td>\n",
       "      <td>0</td>\n",
       "    </tr>\n",
       "    <tr>\n",
       "      <th>1</th>\n",
       "      <td>65</td>\n",
       "      <td>Woman</td>\n",
       "      <td>0</td>\n",
       "      <td>1</td>\n",
       "      <td>0</td>\n",
       "      <td>Puede que entre ahora y los próximos 2 años me...</td>\n",
       "      <td>0</td>\n",
       "    </tr>\n",
       "    <tr>\n",
       "      <th>2</th>\n",
       "      <td>65</td>\n",
       "      <td>Man</td>\n",
       "      <td>0</td>\n",
       "      <td>0</td>\n",
       "      <td>0</td>\n",
       "      <td>Nunca he pensado, ni pensaré en comprarme una ...</td>\n",
       "      <td>0</td>\n",
       "    </tr>\n",
       "    <tr>\n",
       "      <th>3</th>\n",
       "      <td>65</td>\n",
       "      <td>Woman</td>\n",
       "      <td>0</td>\n",
       "      <td>0</td>\n",
       "      <td>0</td>\n",
       "      <td>Puede que entre ahora y los próximos 2 años me...</td>\n",
       "      <td>0</td>\n",
       "    </tr>\n",
       "    <tr>\n",
       "      <th>4</th>\n",
       "      <td>32</td>\n",
       "      <td>Man</td>\n",
       "      <td>0</td>\n",
       "      <td>0</td>\n",
       "      <td>0</td>\n",
       "      <td>Puede que entre ahora y los próximos 2 años me...</td>\n",
       "      <td>0</td>\n",
       "    </tr>\n",
       "    <tr>\n",
       "      <th>...</th>\n",
       "      <td>...</td>\n",
       "      <td>...</td>\n",
       "      <td>...</td>\n",
       "      <td>...</td>\n",
       "      <td>...</td>\n",
       "      <td>...</td>\n",
       "      <td>...</td>\n",
       "    </tr>\n",
       "    <tr>\n",
       "      <th>75</th>\n",
       "      <td>22</td>\n",
       "      <td>Man</td>\n",
       "      <td>0</td>\n",
       "      <td>0</td>\n",
       "      <td>0</td>\n",
       "      <td>Nunca he pensado, ni pensaré en comprarme una ...</td>\n",
       "      <td>0</td>\n",
       "    </tr>\n",
       "    <tr>\n",
       "      <th>76</th>\n",
       "      <td>40</td>\n",
       "      <td>Man</td>\n",
       "      <td>0</td>\n",
       "      <td>1</td>\n",
       "      <td>0</td>\n",
       "      <td>Puede que entre ahora y los próximos 2 años me...</td>\n",
       "      <td>0</td>\n",
       "    </tr>\n",
       "    <tr>\n",
       "      <th>77</th>\n",
       "      <td>22</td>\n",
       "      <td>Man</td>\n",
       "      <td>0</td>\n",
       "      <td>0</td>\n",
       "      <td>0</td>\n",
       "      <td>Nunca he pensado, ni pensaré en comprarme una ...</td>\n",
       "      <td>0</td>\n",
       "    </tr>\n",
       "    <tr>\n",
       "      <th>78</th>\n",
       "      <td>65</td>\n",
       "      <td>Woman</td>\n",
       "      <td>0</td>\n",
       "      <td>0</td>\n",
       "      <td>0</td>\n",
       "      <td>Después del aislamiento por el COVID hubiese s...</td>\n",
       "      <td>1</td>\n",
       "    </tr>\n",
       "    <tr>\n",
       "      <th>79</th>\n",
       "      <td>32</td>\n",
       "      <td>Man</td>\n",
       "      <td>0</td>\n",
       "      <td>0</td>\n",
       "      <td>0</td>\n",
       "      <td>Nunca he pensado, ni pensaré en comprarme una ...</td>\n",
       "      <td>0</td>\n",
       "    </tr>\n",
       "  </tbody>\n",
       "</table>\n",
       "<p>80 rows × 7 columns</p>\n",
       "</div>"
      ],
      "text/plain": [
       "    age gender  ebike_own  potential_customer  tiene_patinete_electrico   \n",
       "0    32    Man          0                   1                         0  \\\n",
       "1    65  Woman          0                   1                         0   \n",
       "2    65    Man          0                   0                         0   \n",
       "3    65  Woman          0                   0                         0   \n",
       "4    32    Man          0                   0                         0   \n",
       "..  ...    ...        ...                 ...                       ...   \n",
       "75   22    Man          0                   0                         0   \n",
       "76   40    Man          0                   1                         0   \n",
       "77   22    Man          0                   0                         0   \n",
       "78   65  Woman          0                   0                         0   \n",
       "79   32    Man          0                   0                         0   \n",
       "\n",
       "                                         afirmation_1  potential-customer_lost  \n",
       "0   Puede que entre ahora y los próximos 2 años me...                        0  \n",
       "1   Puede que entre ahora y los próximos 2 años me...                        0  \n",
       "2   Nunca he pensado, ni pensaré en comprarme una ...                        0  \n",
       "3   Puede que entre ahora y los próximos 2 años me...                        0  \n",
       "4   Puede que entre ahora y los próximos 2 años me...                        0  \n",
       "..                                                ...                      ...  \n",
       "75  Nunca he pensado, ni pensaré en comprarme una ...                        0  \n",
       "76  Puede que entre ahora y los próximos 2 años me...                        0  \n",
       "77  Nunca he pensado, ni pensaré en comprarme una ...                        0  \n",
       "78  Después del aislamiento por el COVID hubiese s...                        1  \n",
       "79  Nunca he pensado, ni pensaré en comprarme una ...                        0  \n",
       "\n",
       "[80 rows x 7 columns]"
      ]
     },
     "execution_count": 15,
     "metadata": {},
     "output_type": "execute_result"
    }
   ],
   "source": [
    "#CREATING NEW COLUMN POTENTIAL CUSTOMER LOST\n",
    "\n",
    "descriptive_df['potential-customer_lost'] = descriptive_df['afirmation_1'].str.replace('Después del aislamiento por el COVID hubiese sido un momento mejor que este para comprar una bicicleta eléctrica.','1')\n",
    "descriptive_df['potential-customer_lost'] = descriptive_df['potential_customer_lost'].str.replace('Nunca he pensado, ni pensaré en comprarme una bicicleta eléctrica.', '0')\n",
    "descriptive_df['potential-customer_lost'] = descriptive_df['potential_customer_lost'].str.replace('Puede que entre ahora y los próximos 2 años me compre una bicicleta eléctrica.', '0')\n",
    "descriptive_df['potential-customer_lost'] = descriptive_df['potential_customer_lost'].str.replace('Ya tengo bicicleta eléctrica.', '0')\n",
    "descriptive_df['potential-customer_lost'] = descriptive_df['potential_customer_lost'].astype(int)\n",
    "display(descriptive_df.dtypes)\n",
    "descriptive_df\n"
   ]
  },
  {
   "cell_type": "code",
   "execution_count": 21,
   "metadata": {},
   "outputs": [
    {
     "data": {
      "text/plain": [
       "age                          int64\n",
       "gender                      object\n",
       "ebike_own                    int64\n",
       "tiene_patinete_electrico     int64\n",
       "afirmation_1                object\n",
       "potential-customer_lost      int32\n",
       "potential_customer           int32\n",
       "dtype: object"
      ]
     },
     "metadata": {},
     "output_type": "display_data"
    },
    {
     "data": {
      "text/html": [
       "<div>\n",
       "<style scoped>\n",
       "    .dataframe tbody tr th:only-of-type {\n",
       "        vertical-align: middle;\n",
       "    }\n",
       "\n",
       "    .dataframe tbody tr th {\n",
       "        vertical-align: top;\n",
       "    }\n",
       "\n",
       "    .dataframe thead th {\n",
       "        text-align: right;\n",
       "    }\n",
       "</style>\n",
       "<table border=\"1\" class=\"dataframe\">\n",
       "  <thead>\n",
       "    <tr style=\"text-align: right;\">\n",
       "      <th></th>\n",
       "      <th>age</th>\n",
       "      <th>gender</th>\n",
       "      <th>ebike_own</th>\n",
       "      <th>tiene_patinete_electrico</th>\n",
       "      <th>afirmation_1</th>\n",
       "      <th>potential-customer_lost</th>\n",
       "      <th>potential_customer</th>\n",
       "    </tr>\n",
       "  </thead>\n",
       "  <tbody>\n",
       "    <tr>\n",
       "      <th>0</th>\n",
       "      <td>32</td>\n",
       "      <td>Man</td>\n",
       "      <td>0</td>\n",
       "      <td>0</td>\n",
       "      <td>Puede que entre ahora y los próximos 2 años me...</td>\n",
       "      <td>0</td>\n",
       "      <td>1</td>\n",
       "    </tr>\n",
       "    <tr>\n",
       "      <th>1</th>\n",
       "      <td>65</td>\n",
       "      <td>Woman</td>\n",
       "      <td>0</td>\n",
       "      <td>0</td>\n",
       "      <td>Puede que entre ahora y los próximos 2 años me...</td>\n",
       "      <td>0</td>\n",
       "      <td>1</td>\n",
       "    </tr>\n",
       "    <tr>\n",
       "      <th>2</th>\n",
       "      <td>65</td>\n",
       "      <td>Man</td>\n",
       "      <td>0</td>\n",
       "      <td>0</td>\n",
       "      <td>Nunca he pensado, ni pensaré en comprarme una ...</td>\n",
       "      <td>0</td>\n",
       "      <td>0</td>\n",
       "    </tr>\n",
       "  </tbody>\n",
       "</table>\n",
       "</div>"
      ],
      "text/plain": [
       "   age gender  ebike_own  tiene_patinete_electrico   \n",
       "0   32    Man          0                         0  \\\n",
       "1   65  Woman          0                         0   \n",
       "2   65    Man          0                         0   \n",
       "\n",
       "                                        afirmation_1  potential-customer_lost   \n",
       "0  Puede que entre ahora y los próximos 2 años me...                        0  \\\n",
       "1  Puede que entre ahora y los próximos 2 años me...                        0   \n",
       "2  Nunca he pensado, ni pensaré en comprarme una ...                        0   \n",
       "\n",
       "   potential_customer  \n",
       "0                   1  \n",
       "1                   1  \n",
       "2                   0  "
      ]
     },
     "execution_count": 21,
     "metadata": {},
     "output_type": "execute_result"
    }
   ],
   "source": [
    "descriptive_df = descriptive_df.drop(['potential_customer'\n",
    "                           ], axis=1)\n",
    "descriptive_df['potential_customer'] = descriptive_df['afirmation_1'].replace('Puede que entre ahora y los próximos 2 años me compre una bicicleta eléctrica.', '1')\n",
    "descriptive_df['potential_customer'] = descriptive_df['potential_customer'].replace('Nunca he pensado, ni pensaré en comprarme una bicicleta eléctrica.', '0')\n",
    "descriptive_df['potential_customer'] = descriptive_df['potential_customer'].replace('Después del aislamiento por el COVID hubiese sido un momento mejor que este para comprar una bicicleta eléctrica.', '0')\n",
    "descriptive_df['potential_customer'] = descriptive_df['potential_customer'].replace('Ya tengo bicicleta eléctrica.', '0')\n",
    "descriptive_df['potential_customer'] = descriptive_df['potential_customer'].astype(int)\n",
    "display(descriptive_df.dtypes)\n",
    "descriptive_df.head(3)"
   ]
  },
  {
   "cell_type": "code",
   "execution_count": 23,
   "metadata": {},
   "outputs": [
    {
     "data": {
      "text/plain": [
       "age                          int64\n",
       "gender                      object\n",
       "ebike_own                    int64\n",
       "tiene_patinete_electrico     int64\n",
       "afirmation_1                object\n",
       "potential-customer_lost      int32\n",
       "potential_customer           int32\n",
       "not_potential_customer       int32\n",
       "dtype: object"
      ]
     },
     "metadata": {},
     "output_type": "display_data"
    },
    {
     "data": {
      "text/html": [
       "<div>\n",
       "<style scoped>\n",
       "    .dataframe tbody tr th:only-of-type {\n",
       "        vertical-align: middle;\n",
       "    }\n",
       "\n",
       "    .dataframe tbody tr th {\n",
       "        vertical-align: top;\n",
       "    }\n",
       "\n",
       "    .dataframe thead th {\n",
       "        text-align: right;\n",
       "    }\n",
       "</style>\n",
       "<table border=\"1\" class=\"dataframe\">\n",
       "  <thead>\n",
       "    <tr style=\"text-align: right;\">\n",
       "      <th></th>\n",
       "      <th>age</th>\n",
       "      <th>gender</th>\n",
       "      <th>ebike_own</th>\n",
       "      <th>tiene_patinete_electrico</th>\n",
       "      <th>afirmation_1</th>\n",
       "      <th>potential-customer_lost</th>\n",
       "      <th>potential_customer</th>\n",
       "      <th>not_potential_customer</th>\n",
       "    </tr>\n",
       "  </thead>\n",
       "  <tbody>\n",
       "    <tr>\n",
       "      <th>0</th>\n",
       "      <td>32</td>\n",
       "      <td>Man</td>\n",
       "      <td>0</td>\n",
       "      <td>0</td>\n",
       "      <td>Puede que entre ahora y los próximos 2 años me...</td>\n",
       "      <td>0</td>\n",
       "      <td>1</td>\n",
       "      <td>0</td>\n",
       "    </tr>\n",
       "    <tr>\n",
       "      <th>1</th>\n",
       "      <td>65</td>\n",
       "      <td>Woman</td>\n",
       "      <td>0</td>\n",
       "      <td>0</td>\n",
       "      <td>Puede que entre ahora y los próximos 2 años me...</td>\n",
       "      <td>0</td>\n",
       "      <td>1</td>\n",
       "      <td>0</td>\n",
       "    </tr>\n",
       "    <tr>\n",
       "      <th>2</th>\n",
       "      <td>65</td>\n",
       "      <td>Man</td>\n",
       "      <td>0</td>\n",
       "      <td>0</td>\n",
       "      <td>Nunca he pensado, ni pensaré en comprarme una ...</td>\n",
       "      <td>0</td>\n",
       "      <td>0</td>\n",
       "      <td>1</td>\n",
       "    </tr>\n",
       "  </tbody>\n",
       "</table>\n",
       "</div>"
      ],
      "text/plain": [
       "   age gender  ebike_own  tiene_patinete_electrico   \n",
       "0   32    Man          0                         0  \\\n",
       "1   65  Woman          0                         0   \n",
       "2   65    Man          0                         0   \n",
       "\n",
       "                                        afirmation_1  potential-customer_lost   \n",
       "0  Puede que entre ahora y los próximos 2 años me...                        0  \\\n",
       "1  Puede que entre ahora y los próximos 2 años me...                        0   \n",
       "2  Nunca he pensado, ni pensaré en comprarme una ...                        0   \n",
       "\n",
       "   potential_customer  not_potential_customer  \n",
       "0                   1                       0  \n",
       "1                   1                       0  \n",
       "2                   0                       1  "
      ]
     },
     "execution_count": 23,
     "metadata": {},
     "output_type": "execute_result"
    }
   ],
   "source": [
    "\n",
    "descriptive_df['not_potential_customer'] = descriptive_df['afirmation_1'].replace('Nunca he pensado, ni pensaré en comprarme una bicicleta eléctrica.', '1')\n",
    "descriptive_df['not_potential_customer'] = descriptive_df['not_potential_customer'].replace('Puede que entre ahora y los próximos 2 años me compre una bicicleta eléctrica.', '0')\n",
    "descriptive_df['not_potential_customer'] = descriptive_df['not_potential_customer'].replace('Después del aislamiento por el COVID hubiese sido un momento mejor que este para comprar una bicicleta eléctrica.', '0')\n",
    "descriptive_df['not_potential_customer'] = descriptive_df['not_potential_customer'].replace('Ya tengo bicicleta eléctrica.', '0')\n",
    "descriptive_df['not_potential_customer'] = descriptive_df['not_potential_customer'].astype(int)\n",
    "display(descriptive_df.dtypes)\n",
    "descriptive_df.head(3)"
   ]
  },
  {
   "cell_type": "code",
   "execution_count": 25,
   "metadata": {},
   "outputs": [],
   "source": [
    "descriptive_df = descriptive_df.drop(['afirmation_1'\n",
    "                           ], axis=1)"
   ]
  },
  {
   "cell_type": "markdown",
   "metadata": {},
   "source": [
    "-----POTENTIAL CUSTOMER-----\n"
   ]
  },
  {
   "cell_type": "code",
   "execution_count": 35,
   "metadata": {},
   "outputs": [
    {
     "ename": "AttributeError",
     "evalue": "'str' object has no attribute 'mean'",
     "output_type": "error",
     "traceback": [
      "\u001b[1;31m---------------------------------------------------------------------------\u001b[0m",
      "\u001b[1;31mAttributeError\u001b[0m                            Traceback (most recent call last)",
      "Cell \u001b[1;32mIn[35], line 2\u001b[0m\n\u001b[0;32m      1\u001b[0m \u001b[39m#MEAN BY GENDER\u001b[39;00m\n\u001b[1;32m----> 2\u001b[0m descriptive_df[\u001b[39m'\u001b[39m\u001b[39mgender\u001b[39m\u001b[39m'\u001b[39m]\u001b[39m==\u001b[39m\u001b[39m'\u001b[39;49m\u001b[39mMan\u001b[39;49m\u001b[39m'\u001b[39;49m\u001b[39m.\u001b[39;49mmean()\n",
      "\u001b[1;31mAttributeError\u001b[0m: 'str' object has no attribute 'mean'"
     ]
    }
   ],
   "source": [
    "#MEAN BY GENDER\n",
    "descriptive_df['gender']=='Man'"
   ]
  },
  {
   "cell_type": "code",
   "execution_count": null,
   "metadata": {},
   "outputs": [],
   "source": [
    "potential_customers_df = descriptive_df[descriptive_df['potential_customer']==1]\n"
   ]
  },
  {
   "cell_type": "code",
   "execution_count": 29,
   "metadata": {},
   "outputs": [
    {
     "data": {
      "image/png": "[encoded data removed]",
      "text/plain": [
       "<Figure size 640x480 with 1 Axes>"
      ]
     },
     "metadata": {},
     "output_type": "display_data"
    }
   ],
   "source": [
    "\n",
    "value_counter = descriptive_df['gender'].value_counts()\n",
    "value_counter.plot(kind='bar')\n",
    " # Agrega etiquetas al gráfico\n",
    "plt.title('Potential customers by gender')\n",
    "plt.xlabel('Gender')\n",
    "plt.ylabel('Count of potential customers')\n",
    " # Muestra el gráfico\n",
    "plt.show()\n"
   ]
  }
 ],
 "metadata": {
  "kernelspec": {
   "display_name": "Python 3",
   "language": "python",
   "name": "python3"
  },
  "language_info": {
   "codemirror_mode": {
    "name": "ipython",
    "version": 3
   },
   "file_extension": ".py",
   "mimetype": "text/x-python",
   "name": "python",
   "nbconvert_exporter": "python",
   "pygments_lexer": "ipython3",
   "version": "3.11.2"
  },
  "orig_nbformat": 4
 },
 "nbformat": 4,
 "nbformat_minor": 2
}
